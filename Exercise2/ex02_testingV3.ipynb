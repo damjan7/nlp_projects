{
 "cells": [
  {
   "cell_type": "code",
   "execution_count": 1,
   "id": "a048dc97",
   "metadata": {},
   "outputs": [],
   "source": [
    "import csv\n",
    "import pandas as pd\n",
    "import numpy as np\n",
    "import string\n",
    "import re\n",
    "\n",
    "import torch\n",
    "import torch.nn as nn\n",
    "import torch.nn.functional as F\n",
    "from torch.utils.data import IterableDataset, DataLoader, Dataset"
   ]
  },
  {
   "cell_type": "code",
   "execution_count": 2,
   "id": "61b99833",
   "metadata": {},
   "outputs": [],
   "source": [
    "path = r\"C:\\Users\\Damja\\OneDrive\\Damjan\\HS22\\NLP UZH\\Exercise2\\scifi.txt\""
   ]
  },
  {
   "cell_type": "code",
   "execution_count": 8,
   "id": "7ed2a315",
   "metadata": {},
   "outputs": [
    {
     "ename": "SyntaxError",
     "evalue": "invalid syntax (3226898854.py, line 1)",
     "output_type": "error",
     "traceback": [
      "\u001b[1;36m  Input \u001b[1;32mIn [8]\u001b[1;36m\u001b[0m\n\u001b[1;33m    Jupyter Notebook --NotebookApp.iopub_data_rate_limit = 1.0e12\u001b[0m\n\u001b[1;37m            ^\u001b[0m\n\u001b[1;31mSyntaxError\u001b[0m\u001b[1;31m:\u001b[0m invalid syntax\n"
     ]
    }
   ],
   "source": [
    "Jupyter Notebook --NotebookApp.iopub_data_rate_limit = 1.0e12"
   ]
  },
  {
   "cell_type": "code",
   "execution_count": 26,
   "id": "52fa3779",
   "metadata": {},
   "outputs": [],
   "source": [
    "with open(path, 'r', encoding='utf-8') as foo:\n",
    "    f = foo.readline()  # it is only '1' line\n",
    "\n",
    "words = f.split()"
   ]
  }
 ],
 "metadata": {
  "kernelspec": {
   "display_name": "Python 3 (ipykernel)",
   "language": "python",
   "name": "python3"
  },
  "language_info": {
   "codemirror_mode": {
    "name": "ipython",
    "version": 3
   },
   "file_extension": ".py",
   "mimetype": "text/x-python",
   "name": "python",
   "nbconvert_exporter": "python",
   "pygments_lexer": "ipython3",
   "version": "3.8.5"
  }
 },
 "nbformat": 4,
 "nbformat_minor": 5
}
